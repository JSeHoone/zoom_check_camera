{
 "cells": [
  {
   "cell_type": "code",
   "execution_count": 1,
   "metadata": {},
   "outputs": [],
   "source": [
    "import os\n",
    "import re\n",
    "import cv2\n",
    "import numpy as np\n",
    "from test_function import bgrExtraction\n",
    "from pytesseract import Output\n",
    "import pytesseract\n",
    "import matplotlib.pyplot as plt\n",
    "pytesseract.pytesseract.tesseract_cmd = 'C:\\\\Users\\\\s\\\\AppData\\\\Local\\\\Programs\\\\Tesseract-OCR\\\\tesseract.exe'\n",
    "\n",
    "## 출석부 관련\n",
    "current_pth = os.path.expanduser(\"~\") + \"\\\\Downloads\\\\\" # user 네임까지 가져오는 거\n",
    "atten_dict = {\n",
    "    'name' :[],\n",
    "    'number': [],\n",
    "}\n",
    "with open(current_pth + '출석부.txt', 'r', encoding='utf-8') as f:\n",
    "    atten_list = f.read().split('\\n')\n",
    "    for Human in atten_list:\n",
    "        name, number = Human.split('\\t')\n",
    "        atten_dict['name'].append(name)\n",
    "        atten_dict['number'].append(number)"
   ]
  },
  {
   "cell_type": "code",
   "execution_count": 2,
   "metadata": {},
   "outputs": [
    {
     "name": "stdout",
     "output_type": "stream",
     "text": [
      "41\n"
     ]
    }
   ],
   "source": [
    "config = ('-l kor --oem 3 --psm 13')\n",
    "bgrLower = np.array([26, 26, 26])    # 추출할 색의 하한\n",
    "bgrUpper = np.array([28, 30, 32])    # 추출할 색의 상한\n",
    "\n",
    "image = cv2.imread('../../test_image.png')\n",
    "\n",
    "bgrResult = bgrExtraction(image, bgrLower, bgrUpper)\n",
    "\n",
    "blur = cv2.GaussianBlur(bgrResult, ksize=(5,5), sigmaX=0)\n",
    "edged = cv2.Canny(blur,3,75)\n",
    "\n",
    "contours, _ = cv2.findContours(edged, cv2.RETR_EXTERNAL, cv2.CHAIN_APPROX_SIMPLE)\n",
    "total = len(contours)\n",
    "print(total)\n",
    "contours_image= cv2.drawContours(image, contours, -1, (0, 255,0), 1)"
   ]
  },
  {
   "cell_type": "code",
   "execution_count": 3,
   "metadata": {},
   "outputs": [],
   "source": [
    "gray_image_list =[]\n",
    "\n",
    "for data in list(contours):\n",
    "    x = []\n",
    "    y = []\n",
    "    for a in data:\n",
    "        x.append(a[0][0])\n",
    "        y.append(a[0][1])\n",
    "    crop_img = image[ max(y)-20 : max(y) , min(x) : min(x) + 150 ] # 이름까지 추출\n",
    "\n",
    "    gray_roi= cv2.cvtColor(crop_img, cv2.COLOR_BGR2GRAY)\n",
    "    gray_image_list.append(gray_roi)"
   ]
  },
  {
   "cell_type": "code",
   "execution_count": 4,
   "metadata": {},
   "outputs": [
    {
     "data": {
      "image/png": "[encoded data removed]",
      "text/plain": [
       "<Figure size 640x480 with 1 Axes>"
      ]
     },
     "metadata": {},
     "output_type": "display_data"
    }
   ],
   "source": [
    "plt.hist(gray_image_list[0].ravel(), 256, [0, 256])\n",
    "plt.show()"
   ]
  },
  {
   "cell_type": "code",
   "execution_count": 5,
   "metadata": {},
   "outputs": [
    {
     "name": "stdout",
     "output_type": "stream",
     "text": [
      "50.699234750963775\n",
      "89.173\n"
     ]
    }
   ],
   "source": [
    "print(np.std(gray_image_list[0]))\n",
    "print(np.mean(gray_image_list[0]))"
   ]
  },
  {
   "cell_type": "code",
   "execution_count": 6,
   "metadata": {},
   "outputs": [
    {
     "data": {
      "text/plain": [
       "34"
      ]
     },
     "execution_count": 6,
     "metadata": {},
     "output_type": "execute_result"
    }
   ],
   "source": [
    "## name ocr 안하고 number만 했을 경우\n",
    "atten_list_index =[]\n",
    "full_ocr = []\n",
    "\n",
    "for data in list(contours):\n",
    "    x = []\n",
    "    y = []\n",
    "    for a in data:\n",
    "        x.append(a[0][0])\n",
    "        y.append(a[0][1])\n",
    "    crop_img = image[ max(y)-20 : max(y) , min(x) : min(x) + 125 ] # 이름까지 추출\n",
    "\n",
    "    gray_roi= cv2.cvtColor(crop_img, cv2.COLOR_BGR2GRAY)\n",
    "    gray_roi = np.where(gray_roi > 120, gray_roi, 0)\n",
    "\n",
    "    full = pytesseract.image_to_string(gray_roi, config = config).rstrip()\n",
    "    number = re.sub(r'[^0-9]', '', pytesseract.image_to_string(gray_roi,config=config,lang='kor').rstrip())\n",
    "    if number in atten_dict['number']:\n",
    "        atten_list_index.append(atten_dict['number'].index(number)) # 출석 한 사람 atten list에 넣기\n",
    "\n",
    "    full_ocr.append(full)\n",
    "## 인식이 확인 된 수\n",
    "len(atten_list_index)"
   ]
  },
  {
   "cell_type": "code",
   "execution_count": 7,
   "metadata": {},
   "outputs": [
    {
     "name": "stdout",
     "output_type": "stream",
     "text": [
      "40\n"
     ]
    }
   ],
   "source": [
    "## number랑 name으로 했을 경우 \n",
    "atten_list_index =[]\n",
    "noinsic = []\n",
    "for data in list(contours):\n",
    "    x = []\n",
    "    y = []\n",
    "    for a in data:\n",
    "        x.append(a[0][0])\n",
    "        y.append(a[0][1])\n",
    "    crop_img = image[ max(y)-20 : max(y) , min(x)+5 : min(x) + 125 ] # 이름까지 추출\n",
    "\n",
    "    gray_roi= cv2.cvtColor(crop_img, cv2.COLOR_BGR2GRAY)\n",
    "    gray_roi = np.where(gray_roi > 120, gray_roi, 0)\n",
    "\n",
    "    number = re.sub(r'[^0-9]', '', pytesseract.image_to_string(gray_roi,config=config).rstrip())[:8]\n",
    "    name = re.sub(r\"[^ㄱ-ㅣ가-힣\\s]\", \"\", pytesseract.image_to_string(gray_roi, config = config).rstrip()).strip()\n",
    "\n",
    "    if number in atten_dict['number']:\n",
    "        atten_list_index.append(atten_dict['number'].index(number)) # 출석 한 사람 atten list에 넣기\n",
    "    elif name in atten_dict['name']:\n",
    "        atten_list_index.append(atten_dict['name'].index(name))\n",
    "    else:\n",
    "        noinsic.append(gray_roi)\n",
    "    \n",
    "# 인식이 확인된 수\n",
    "print(len(atten_list_index))"
   ]
  }
 ],
 "metadata": {
  "kernelspec": {
   "display_name": "autocheck",
   "language": "python",
   "name": "python3"
  },
  "language_info": {
   "codemirror_mode": {
    "name": "ipython",
    "version": 3
   },
   "file_extension": ".py",
   "mimetype": "text/x-python",
   "name": "python",
   "nbconvert_exporter": "python",
   "pygments_lexer": "ipython3",
   "version": "3.9.17"
  },
  "orig_nbformat": 4
 },
 "nbformat": 4,
 "nbformat_minor": 2
}
